{
 "cells": [
  {
   "cell_type": "code",
   "execution_count": 1,
   "id": "f7112563",
   "metadata": {
    "_cell_guid": "b1076dfc-b9ad-4769-8c92-a6c4dae69d19",
    "_uuid": "8f2839f25d086af736a60e9eeb907d3b93b6e0e5",
    "execution": {
     "iopub.execute_input": "2024-07-23T10:34:33.599482Z",
     "iopub.status.busy": "2024-07-23T10:34:33.599035Z",
     "iopub.status.idle": "2024-07-23T10:34:34.498642Z",
     "shell.execute_reply": "2024-07-23T10:34:34.497357Z"
    },
    "papermill": {
     "duration": 0.912682,
     "end_time": "2024-07-23T10:34:34.500921",
     "exception": false,
     "start_time": "2024-07-23T10:34:33.588239",
     "status": "completed"
    },
    "tags": []
   },
   "outputs": [
    {
     "name": "stdout",
     "output_type": "stream",
     "text": [
      "/kaggle/input/imdb-dataset-of-50k-movie-reviews/IMDB Dataset.csv\n"
     ]
    }
   ],
   "source": [
    "# This Python 3 environment comes with many helpful analytics libraries installed\n",
    "# It is defined by the kaggle/python Docker image: https://github.com/kaggle/docker-python\n",
    "# For example, here's several helpful packages to load\n",
    "\n",
    "import numpy as np # linear algebra\n",
    "import pandas as pd # data processing, CSV file I/O (e.g. pd.read_csv)\n",
    "\n",
    "# Input data files are available in the read-only \"../input/\" directory\n",
    "# For example, running this (by clicking run or pressing Shift+Enter) will list all files under the input directory\n",
    "\n",
    "import os\n",
    "for dirname, _, filenames in os.walk('/kaggle/input'):\n",
    "    for filename in filenames:\n",
    "        print(os.path.join(dirname, filename))\n",
    "\n",
    "# You can write up to 20GB to the current directory (/kaggle/working/) that gets preserved as output when you create a version using \"Save & Run All\" \n",
    "# You can also write temporary files to /kaggle/temp/, but they won't be saved outside of the current session"
   ]
  },
  {
   "cell_type": "code",
   "execution_count": 2,
   "id": "9c5d284a",
   "metadata": {
    "execution": {
     "iopub.execute_input": "2024-07-23T10:34:34.522286Z",
     "iopub.status.busy": "2024-07-23T10:34:34.521176Z",
     "iopub.status.idle": "2024-07-23T10:34:34.526101Z",
     "shell.execute_reply": "2024-07-23T10:34:34.525106Z"
    },
    "papermill": {
     "duration": 0.017873,
     "end_time": "2024-07-23T10:34:34.528390",
     "exception": false,
     "start_time": "2024-07-23T10:34:34.510517",
     "status": "completed"
    },
    "tags": []
   },
   "outputs": [],
   "source": [
    "import pandas as pd\n",
    "import numpy as np\n"
   ]
  },
  {
   "cell_type": "code",
   "execution_count": 3,
   "id": "c005cba8",
   "metadata": {
    "execution": {
     "iopub.execute_input": "2024-07-23T10:34:34.548355Z",
     "iopub.status.busy": "2024-07-23T10:34:34.547953Z",
     "iopub.status.idle": "2024-07-23T10:34:36.054469Z",
     "shell.execute_reply": "2024-07-23T10:34:36.053438Z"
    },
    "papermill": {
     "duration": 1.5193,
     "end_time": "2024-07-23T10:34:36.056920",
     "exception": false,
     "start_time": "2024-07-23T10:34:34.537620",
     "status": "completed"
    },
    "tags": []
   },
   "outputs": [
    {
     "data": {
      "text/html": [
       "<div>\n",
       "<style scoped>\n",
       "    .dataframe tbody tr th:only-of-type {\n",
       "        vertical-align: middle;\n",
       "    }\n",
       "\n",
       "    .dataframe tbody tr th {\n",
       "        vertical-align: top;\n",
       "    }\n",
       "\n",
       "    .dataframe thead th {\n",
       "        text-align: right;\n",
       "    }\n",
       "</style>\n",
       "<table border=\"1\" class=\"dataframe\">\n",
       "  <thead>\n",
       "    <tr style=\"text-align: right;\">\n",
       "      <th></th>\n",
       "      <th>review</th>\n",
       "      <th>sentiment</th>\n",
       "    </tr>\n",
       "  </thead>\n",
       "  <tbody>\n",
       "    <tr>\n",
       "      <th>0</th>\n",
       "      <td>One of the other reviewers has mentioned that ...</td>\n",
       "      <td>positive</td>\n",
       "    </tr>\n",
       "    <tr>\n",
       "      <th>1</th>\n",
       "      <td>A wonderful little production. &lt;br /&gt;&lt;br /&gt;The...</td>\n",
       "      <td>positive</td>\n",
       "    </tr>\n",
       "    <tr>\n",
       "      <th>2</th>\n",
       "      <td>I thought this was a wonderful way to spend ti...</td>\n",
       "      <td>positive</td>\n",
       "    </tr>\n",
       "    <tr>\n",
       "      <th>3</th>\n",
       "      <td>Basically there's a family where a little boy ...</td>\n",
       "      <td>negative</td>\n",
       "    </tr>\n",
       "    <tr>\n",
       "      <th>4</th>\n",
       "      <td>Petter Mattei's \"Love in the Time of Money\" is...</td>\n",
       "      <td>positive</td>\n",
       "    </tr>\n",
       "  </tbody>\n",
       "</table>\n",
       "</div>"
      ],
      "text/plain": [
       "                                              review sentiment\n",
       "0  One of the other reviewers has mentioned that ...  positive\n",
       "1  A wonderful little production. <br /><br />The...  positive\n",
       "2  I thought this was a wonderful way to spend ti...  positive\n",
       "3  Basically there's a family where a little boy ...  negative\n",
       "4  Petter Mattei's \"Love in the Time of Money\" is...  positive"
      ]
     },
     "execution_count": 3,
     "metadata": {},
     "output_type": "execute_result"
    }
   ],
   "source": [
    "df= pd.read_csv(\"/kaggle/input/imdb-dataset-of-50k-movie-reviews/IMDB Dataset.csv\")\n",
    "df.head()"
   ]
  },
  {
   "cell_type": "code",
   "execution_count": 4,
   "id": "9a20b873",
   "metadata": {
    "execution": {
     "iopub.execute_input": "2024-07-23T10:34:36.076978Z",
     "iopub.status.busy": "2024-07-23T10:34:36.076621Z",
     "iopub.status.idle": "2024-07-23T10:34:36.083601Z",
     "shell.execute_reply": "2024-07-23T10:34:36.082588Z"
    },
    "papermill": {
     "duration": 0.019897,
     "end_time": "2024-07-23T10:34:36.086060",
     "exception": false,
     "start_time": "2024-07-23T10:34:36.066163",
     "status": "completed"
    },
    "tags": []
   },
   "outputs": [
    {
     "data": {
      "text/plain": [
       "\"One of the other reviewers has mentioned that after watching just 1 Oz episode you'll be hooked. They are right, as this is exactly what happened with me.<br /><br />The first thing that struck me about Oz was its brutality and unflinching scenes of violence, which set in right from the word GO. Trust me, this is not a show for the faint hearted or timid. This show pulls no punches with regards to drugs, sex or violence. Its is hardcore, in the classic use of the word.<br /><br />It is called OZ as that is the nickname given to the Oswald Maximum Security State Penitentary. It focuses mainly on Emerald City, an experimental section of the prison where all the cells have glass fronts and face inwards, so privacy is not high on the agenda. Em City is home to many..Aryans, Muslims, gangstas, Latinos, Christians, Italians, Irish and more....so scuffles, death stares, dodgy dealings and shady agreements are never far away.<br /><br />I would say the main appeal of the show is due to the fact that it goes where other shows wouldn't dare. Forget pretty pictures painted for mainstream audiences, forget charm, forget romance...OZ doesn't mess around. The first episode I ever saw struck me as so nasty it was surreal, I couldn't say I was ready for it, but as I watched more, I developed a taste for Oz, and got accustomed to the high levels of graphic violence. Not just violence, but injustice (crooked guards who'll be sold out for a nickel, inmates who'll kill on order and get away with it, well mannered, middle class inmates being turned into prison bitches due to their lack of street skills or prison experience) Watching Oz, you may become comfortable with what is uncomfortable viewing....thats if you can get in touch with your darker side.\""
      ]
     },
     "execution_count": 4,
     "metadata": {},
     "output_type": "execute_result"
    }
   ],
   "source": [
    "df[\"review\"][0]"
   ]
  },
  {
   "cell_type": "code",
   "execution_count": 5,
   "id": "1fc438d7",
   "metadata": {
    "execution": {
     "iopub.execute_input": "2024-07-23T10:34:36.107835Z",
     "iopub.status.busy": "2024-07-23T10:34:36.107119Z",
     "iopub.status.idle": "2024-07-23T10:34:36.120362Z",
     "shell.execute_reply": "2024-07-23T10:34:36.119334Z"
    },
    "papermill": {
     "duration": 0.026141,
     "end_time": "2024-07-23T10:34:36.122718",
     "exception": false,
     "start_time": "2024-07-23T10:34:36.096577",
     "status": "completed"
    },
    "tags": []
   },
   "outputs": [],
   "source": [
    "df1= df.sample(10000)"
   ]
  },
  {
   "cell_type": "code",
   "execution_count": 6,
   "id": "24b013fa",
   "metadata": {
    "execution": {
     "iopub.execute_input": "2024-07-23T10:34:36.142823Z",
     "iopub.status.busy": "2024-07-23T10:34:36.142419Z",
     "iopub.status.idle": "2024-07-23T10:34:36.153033Z",
     "shell.execute_reply": "2024-07-23T10:34:36.152059Z"
    },
    "papermill": {
     "duration": 0.024452,
     "end_time": "2024-07-23T10:34:36.156325",
     "exception": false,
     "start_time": "2024-07-23T10:34:36.131873",
     "status": "completed"
    },
    "tags": []
   },
   "outputs": [
    {
     "name": "stderr",
     "output_type": "stream",
     "text": [
      "/tmp/ipykernel_18/1632599795.py:1: FutureWarning: A value is trying to be set on a copy of a DataFrame or Series through chained assignment using an inplace method.\n",
      "The behavior will change in pandas 3.0. This inplace method will never work because the intermediate object on which we are setting values always behaves as a copy.\n",
      "\n",
      "For example, when doing 'df[col].method(value, inplace=True)', try using 'df.method({col: value}, inplace=True)' or df[col] = df[col].method(value) instead, to perform the operation inplace on the original object.\n",
      "\n",
      "\n",
      "  df1[\"sentiment\"].replace({'positive':1, 'negative':0}, inplace=True)\n",
      "/tmp/ipykernel_18/1632599795.py:1: FutureWarning: Downcasting behavior in `replace` is deprecated and will be removed in a future version. To retain the old behavior, explicitly call `result.infer_objects(copy=False)`. To opt-in to the future behavior, set `pd.set_option('future.no_silent_downcasting', True)`\n",
      "  df1[\"sentiment\"].replace({'positive':1, 'negative':0}, inplace=True)\n"
     ]
    }
   ],
   "source": [
    "df1[\"sentiment\"].replace({'positive':1, 'negative':0}, inplace=True)"
   ]
  },
  {
   "cell_type": "code",
   "execution_count": 7,
   "id": "41aad5d4",
   "metadata": {
    "execution": {
     "iopub.execute_input": "2024-07-23T10:34:36.176991Z",
     "iopub.status.busy": "2024-07-23T10:34:36.176579Z",
     "iopub.status.idle": "2024-07-23T10:34:36.186646Z",
     "shell.execute_reply": "2024-07-23T10:34:36.185545Z"
    },
    "papermill": {
     "duration": 0.023095,
     "end_time": "2024-07-23T10:34:36.188853",
     "exception": false,
     "start_time": "2024-07-23T10:34:36.165758",
     "status": "completed"
    },
    "tags": []
   },
   "outputs": [
    {
     "data": {
      "text/html": [
       "<div>\n",
       "<style scoped>\n",
       "    .dataframe tbody tr th:only-of-type {\n",
       "        vertical-align: middle;\n",
       "    }\n",
       "\n",
       "    .dataframe tbody tr th {\n",
       "        vertical-align: top;\n",
       "    }\n",
       "\n",
       "    .dataframe thead th {\n",
       "        text-align: right;\n",
       "    }\n",
       "</style>\n",
       "<table border=\"1\" class=\"dataframe\">\n",
       "  <thead>\n",
       "    <tr style=\"text-align: right;\">\n",
       "      <th></th>\n",
       "      <th>review</th>\n",
       "      <th>sentiment</th>\n",
       "    </tr>\n",
       "  </thead>\n",
       "  <tbody>\n",
       "    <tr>\n",
       "      <th>9576</th>\n",
       "      <td>When i come on IMDb boards,I'm always fed up w...</td>\n",
       "      <td>0</td>\n",
       "    </tr>\n",
       "    <tr>\n",
       "      <th>20035</th>\n",
       "      <td>Best club scenes that i have seen in a long ti...</td>\n",
       "      <td>1</td>\n",
       "    </tr>\n",
       "    <tr>\n",
       "      <th>34652</th>\n",
       "      <td>I'd love to give Kolchak a higher rating but t...</td>\n",
       "      <td>1</td>\n",
       "    </tr>\n",
       "    <tr>\n",
       "      <th>27199</th>\n",
       "      <td>These three directors are off to Good Beginnin...</td>\n",
       "      <td>1</td>\n",
       "    </tr>\n",
       "    <tr>\n",
       "      <th>19649</th>\n",
       "      <td>I happened to catch about the last 45 minutes ...</td>\n",
       "      <td>1</td>\n",
       "    </tr>\n",
       "  </tbody>\n",
       "</table>\n",
       "</div>"
      ],
      "text/plain": [
       "                                                  review  sentiment\n",
       "9576   When i come on IMDb boards,I'm always fed up w...          0\n",
       "20035  Best club scenes that i have seen in a long ti...          1\n",
       "34652  I'd love to give Kolchak a higher rating but t...          1\n",
       "27199  These three directors are off to Good Beginnin...          1\n",
       "19649  I happened to catch about the last 45 minutes ...          1"
      ]
     },
     "execution_count": 7,
     "metadata": {},
     "output_type": "execute_result"
    }
   ],
   "source": [
    "df1.head()"
   ]
  },
  {
   "cell_type": "code",
   "execution_count": 8,
   "id": "1a7e4e17",
   "metadata": {
    "execution": {
     "iopub.execute_input": "2024-07-23T10:34:36.210059Z",
     "iopub.status.busy": "2024-07-23T10:34:36.209160Z",
     "iopub.status.idle": "2024-07-23T10:34:36.216746Z",
     "shell.execute_reply": "2024-07-23T10:34:36.215759Z"
    },
    "papermill": {
     "duration": 0.020622,
     "end_time": "2024-07-23T10:34:36.218922",
     "exception": false,
     "start_time": "2024-07-23T10:34:36.198300",
     "status": "completed"
    },
    "tags": []
   },
   "outputs": [
    {
     "data": {
      "text/plain": [
       "'I thought this was a wonderful way to spend time on a too hot summer weekend, sitting in the air conditioned theater and watching a light-hearted comedy. The plot is simplistic, but the dialogue is witty and the characters are likable (even the well bread suspected serial killer). While some may be disappointed when they realize this is not Match Point 2: Risk Addiction, I thought it was proof that Woody Allen is still fully in control of the style many of us have grown to love.This was the most I\\'d laughed at one of Woody\\'s comedies in years (dare I say a decade?). While I\\'ve never been impressed with Scarlet Johanson, in this she managed to tone down her \"sexy\" image and jumped right into a average, but spirited young woman.This may not be the crown jewel of his career, but it was wittier than \"Devil Wears Prada\" and more interesting than \"Superman\" a great comedy to go see with friends.'"
      ]
     },
     "execution_count": 8,
     "metadata": {},
     "output_type": "execute_result"
    }
   ],
   "source": [
    " #html re\n",
    "import re\n",
    "pattern = '<.*?>'\n",
    "html= re.compile(pattern)\n",
    "re.sub(html, \"\", df.iloc[2].review)"
   ]
  },
  {
   "cell_type": "code",
   "execution_count": 9,
   "id": "f3bedef6",
   "metadata": {
    "execution": {
     "iopub.execute_input": "2024-07-23T10:34:36.239761Z",
     "iopub.status.busy": "2024-07-23T10:34:36.239399Z",
     "iopub.status.idle": "2024-07-23T10:34:36.246837Z",
     "shell.execute_reply": "2024-07-23T10:34:36.245806Z"
    },
    "papermill": {
     "duration": 0.020944,
     "end_time": "2024-07-23T10:34:36.249449",
     "exception": false,
     "start_time": "2024-07-23T10:34:36.228505",
     "status": "completed"
    },
    "tags": []
   },
   "outputs": [
    {
     "data": {
      "text/plain": [
       "'I thought this was a wonderful way to spend time on a too hot summer weekend sitting in the air conditioned theater and watching a light-hearted comedy The plot is simplistic but the dialogue is witty and the characters are likable (even the well bread suspected serial killer) While some may be disappointed when they realize this is not Match Point 2: Risk Addiction I thought it was proof that Woody Allen is still fully in control of the style many of us have grown to love<br /><br />This was the most I\\'d laughed at one of Woody\\'s comedies in years (dare I say a decade) While I\\'ve never been impressed with Scarlet Johanson in this she managed to tone down her \"sexy\" image and jumped right into a average but spirited young woman<br /><br />This may not be the crown jewel of his career but it was wittier than \"Devil Wears Prada\" and more interesting than \"Superman\" a great comedy to go see with friends'"
      ]
     },
     "execution_count": 9,
     "metadata": {},
     "output_type": "execute_result"
    }
   ],
   "source": [
    "punctuation_pattern = re.compile(r'[,.!?]')\n",
    "re.sub(punctuation_pattern, \"\", df.iloc[2].review)"
   ]
  },
  {
   "cell_type": "code",
   "execution_count": 10,
   "id": "6cd47d39",
   "metadata": {
    "execution": {
     "iopub.execute_input": "2024-07-23T10:34:36.272838Z",
     "iopub.status.busy": "2024-07-23T10:34:36.271687Z",
     "iopub.status.idle": "2024-07-23T10:34:36.278666Z",
     "shell.execute_reply": "2024-07-23T10:34:36.277627Z"
    },
    "papermill": {
     "duration": 0.020909,
     "end_time": "2024-07-23T10:34:36.280901",
     "exception": false,
     "start_time": "2024-07-23T10:34:36.259992",
     "status": "completed"
    },
    "tags": []
   },
   "outputs": [],
   "source": [
    "def clean(text):\n",
    "    import re\n",
    "    pattern = '<.*?>'\n",
    "    html_pattern= re.compile(pattern)\n",
    "    punctuation_pattern = re.compile(r'[,.!]')\n",
    "    extraneous_phrase_pattern = re.compile(r'Trust me,')\n",
    "    personal_references_pattern = re.compile(r'\\b(I|me|my)\\b')\n",
    "    #above can be removed by stopwords too\n",
    "    \n",
    "    text = html_pattern.sub('', text)\n",
    "    \n",
    "    text = punctuation_pattern.sub('', text)\n",
    "\n",
    "    # Remove the phrase \"Trust me,\"\n",
    "    text= re.sub(extraneous_phrase_pattern,'', text)\n",
    "\n",
    "    # Remove first-person references\n",
    "    text = personal_references_pattern.sub('', text)\n",
    "    \n",
    "    return text"
   ]
  },
  {
   "cell_type": "code",
   "execution_count": 11,
   "id": "d0ea8dda",
   "metadata": {
    "execution": {
     "iopub.execute_input": "2024-07-23T10:34:36.302142Z",
     "iopub.status.busy": "2024-07-23T10:34:36.301439Z",
     "iopub.status.idle": "2024-07-23T10:34:36.960047Z",
     "shell.execute_reply": "2024-07-23T10:34:36.958843Z"
    },
    "papermill": {
     "duration": 0.671705,
     "end_time": "2024-07-23T10:34:36.962275",
     "exception": false,
     "start_time": "2024-07-23T10:34:36.290570",
     "status": "completed"
    },
    "tags": []
   },
   "outputs": [
    {
     "data": {
      "text/plain": [
       "9576     When i come on IMDb boardsI'm always fed up wh...\n",
       "20035    Best club scenes that i have seen in a long ti...\n",
       "34652    'd love to give Kolchak a higher rating but th...\n",
       "27199    These three directors are off to Good Beginnin...\n",
       "19649     happened to catch about the last 45 minutes o...\n",
       "                               ...                        \n",
       "5371      first saw this when they showed this around e...\n",
       "22329     had some time to kill before watching footbal...\n",
       "9164      didn't really like this movie that much at al...\n",
       "11717    this movie is made for Asian/Chinese market ta...\n",
       "7900     It's great how this movie pulls you along  had...\n",
       "Name: review, Length: 10000, dtype: object"
      ]
     },
     "execution_count": 11,
     "metadata": {},
     "output_type": "execute_result"
    }
   ],
   "source": [
    "df1['review']= df1['review'].apply(clean)\n",
    "df1.review"
   ]
  },
  {
   "cell_type": "code",
   "execution_count": 12,
   "id": "ed2c4acc",
   "metadata": {
    "execution": {
     "iopub.execute_input": "2024-07-23T10:34:36.983791Z",
     "iopub.status.busy": "2024-07-23T10:34:36.983371Z",
     "iopub.status.idle": "2024-07-23T10:34:36.989034Z",
     "shell.execute_reply": "2024-07-23T10:34:36.988051Z"
    },
    "papermill": {
     "duration": 0.018921,
     "end_time": "2024-07-23T10:34:36.991013",
     "exception": false,
     "start_time": "2024-07-23T10:34:36.972092",
     "status": "completed"
    },
    "tags": []
   },
   "outputs": [],
   "source": [
    "#converting to lowerd\n",
    "def lower(text):\n",
    "    return text.lower()\n",
    "\n",
    "def remove_splc(text):\n",
    "    x=''\n",
    "    for i in text:\n",
    "        if i.isalnum():\n",
    "            x+=i\n",
    "        else:\n",
    "            x+=\" \"\n",
    "    return x"
   ]
  },
  {
   "cell_type": "code",
   "execution_count": 13,
   "id": "cc08d81d",
   "metadata": {
    "execution": {
     "iopub.execute_input": "2024-07-23T10:34:37.012017Z",
     "iopub.status.busy": "2024-07-23T10:34:37.011649Z",
     "iopub.status.idle": "2024-07-23T10:34:37.060228Z",
     "shell.execute_reply": "2024-07-23T10:34:37.059321Z"
    },
    "papermill": {
     "duration": 0.061964,
     "end_time": "2024-07-23T10:34:37.062607",
     "exception": false,
     "start_time": "2024-07-23T10:34:37.000643",
     "status": "completed"
    },
    "tags": []
   },
   "outputs": [],
   "source": [
    "df1[\"review\"]=df1[\"review\"].apply(lower)\n"
   ]
  },
  {
   "cell_type": "code",
   "execution_count": 14,
   "id": "a040a5e0",
   "metadata": {
    "execution": {
     "iopub.execute_input": "2024-07-23T10:34:37.083929Z",
     "iopub.status.busy": "2024-07-23T10:34:37.083554Z",
     "iopub.status.idle": "2024-07-23T10:34:38.951491Z",
     "shell.execute_reply": "2024-07-23T10:34:38.950317Z"
    },
    "papermill": {
     "duration": 1.881667,
     "end_time": "2024-07-23T10:34:38.954113",
     "exception": false,
     "start_time": "2024-07-23T10:34:37.072446",
     "status": "completed"
    },
    "tags": []
   },
   "outputs": [],
   "source": [
    "df1[\"review\"]=df1[\"review\"].apply(remove_splc)"
   ]
  },
  {
   "cell_type": "code",
   "execution_count": 15,
   "id": "f8a87d32",
   "metadata": {
    "execution": {
     "iopub.execute_input": "2024-07-23T10:34:38.976220Z",
     "iopub.status.busy": "2024-07-23T10:34:38.975831Z",
     "iopub.status.idle": "2024-07-23T10:34:38.984040Z",
     "shell.execute_reply": "2024-07-23T10:34:38.983088Z"
    },
    "papermill": {
     "duration": 0.022091,
     "end_time": "2024-07-23T10:34:38.986311",
     "exception": false,
     "start_time": "2024-07-23T10:34:38.964220",
     "status": "completed"
    },
    "tags": []
   },
   "outputs": [
    {
     "data": {
      "text/plain": [
       "9576     when i come on imdb boardsi m always fed up wh...\n",
       "20035    best club scenes that i have seen in a long ti...\n",
       "34652     d love to give kolchak a higher rating but th...\n",
       "27199    these three directors are off to good beginnin...\n",
       "19649     happened to catch about the last 45 minutes o...\n",
       "                               ...                        \n",
       "5371      first saw this when they showed this around e...\n",
       "22329     had some time to kill before watching footbal...\n",
       "9164      didn t really like this movie that much at al...\n",
       "11717    this movie is made for asian chinese market ta...\n",
       "7900     it s great how this movie pulls you along  had...\n",
       "Name: review, Length: 10000, dtype: object"
      ]
     },
     "execution_count": 15,
     "metadata": {},
     "output_type": "execute_result"
    }
   ],
   "source": [
    "df1[\"review\"]"
   ]
  },
  {
   "cell_type": "code",
   "execution_count": 16,
   "id": "34dc8451",
   "metadata": {
    "execution": {
     "iopub.execute_input": "2024-07-23T10:34:39.007665Z",
     "iopub.status.busy": "2024-07-23T10:34:39.007274Z",
     "iopub.status.idle": "2024-07-23T10:34:40.868306Z",
     "shell.execute_reply": "2024-07-23T10:34:40.867181Z"
    },
    "papermill": {
     "duration": 1.875681,
     "end_time": "2024-07-23T10:34:40.871720",
     "exception": false,
     "start_time": "2024-07-23T10:34:38.996039",
     "status": "completed"
    },
    "tags": []
   },
   "outputs": [],
   "source": [
    "#to remove stopwords\n",
    "import nltk\n",
    "from nltk.corpus import stopwords"
   ]
  },
  {
   "cell_type": "code",
   "execution_count": 17,
   "id": "c8b93a0c",
   "metadata": {
    "execution": {
     "iopub.execute_input": "2024-07-23T10:34:40.894521Z",
     "iopub.status.busy": "2024-07-23T10:34:40.893570Z",
     "iopub.status.idle": "2024-07-23T10:34:40.899353Z",
     "shell.execute_reply": "2024-07-23T10:34:40.898251Z"
    },
    "papermill": {
     "duration": 0.019817,
     "end_time": "2024-07-23T10:34:40.901599",
     "exception": false,
     "start_time": "2024-07-23T10:34:40.881782",
     "status": "completed"
    },
    "tags": []
   },
   "outputs": [],
   "source": [
    "#stopwords.words('english')\n",
    "def remove_stopwords(text):\n",
    "    stopword= set(stopwords.words(\"english\"))\n",
    "    filtered_words= [i for i in text.split() \n",
    "                    if i.lower() not in stopword]\n",
    "    return filtered_words"
   ]
  },
  {
   "cell_type": "code",
   "execution_count": 18,
   "id": "de603856",
   "metadata": {
    "execution": {
     "iopub.execute_input": "2024-07-23T10:34:40.924084Z",
     "iopub.status.busy": "2024-07-23T10:34:40.923134Z",
     "iopub.status.idle": "2024-07-23T10:34:43.162048Z",
     "shell.execute_reply": "2024-07-23T10:34:43.160952Z"
    },
    "papermill": {
     "duration": 2.253307,
     "end_time": "2024-07-23T10:34:43.164837",
     "exception": false,
     "start_time": "2024-07-23T10:34:40.911530",
     "status": "completed"
    },
    "tags": []
   },
   "outputs": [],
   "source": [
    "df1[\"review\"]=df1[\"review\"].apply(remove_stopwords)"
   ]
  },
  {
   "cell_type": "code",
   "execution_count": 19,
   "id": "6172953c",
   "metadata": {
    "execution": {
     "iopub.execute_input": "2024-07-23T10:34:43.186897Z",
     "iopub.status.busy": "2024-07-23T10:34:43.186490Z",
     "iopub.status.idle": "2024-07-23T10:34:43.200018Z",
     "shell.execute_reply": "2024-07-23T10:34:43.198758Z"
    },
    "papermill": {
     "duration": 0.027491,
     "end_time": "2024-07-23T10:34:43.202515",
     "exception": false,
     "start_time": "2024-07-23T10:34:43.175024",
     "status": "completed"
    },
    "tags": []
   },
   "outputs": [
    {
     "data": {
      "text/plain": [
       "9576     [come, imdb, boardsi, always, fed, see, worst,...\n",
       "20035    [best, club, scenes, seen, long, time, atmosph...\n",
       "34652    [love, give, kolchak, higher, rating, show, qu...\n",
       "27199    [three, directors, good, beginnings, three, st...\n",
       "19649    [happened, catch, last, 45, minutes, movielate...\n",
       "                               ...                        \n",
       "5371     [first, saw, showed, around, easter, time, 199...\n",
       "22329    [time, kill, watching, football, saw, movie, o...\n",
       "9164     [really, like, movie, much, really, funny, cas...\n",
       "11717    [movie, made, asian, chinese, market, targetin...\n",
       "7900     [great, movie, pulls, along, honest, laughs, c...\n",
       "Name: review, Length: 10000, dtype: object"
      ]
     },
     "execution_count": 19,
     "metadata": {},
     "output_type": "execute_result"
    }
   ],
   "source": [
    "df1[\"review\"]"
   ]
  },
  {
   "cell_type": "code",
   "execution_count": 20,
   "id": "ad7a8a1e",
   "metadata": {
    "execution": {
     "iopub.execute_input": "2024-07-23T10:34:43.225363Z",
     "iopub.status.busy": "2024-07-23T10:34:43.224252Z",
     "iopub.status.idle": "2024-07-23T10:34:43.230517Z",
     "shell.execute_reply": "2024-07-23T10:34:43.229221Z"
    },
    "papermill": {
     "duration": 0.020282,
     "end_time": "2024-07-23T10:34:43.232957",
     "exception": false,
     "start_time": "2024-07-23T10:34:43.212675",
     "status": "completed"
    },
    "tags": []
   },
   "outputs": [],
   "source": [
    "#stemming\n",
    "from nltk.stem.porter import PorterStemmer\n",
    "ps=PorterStemmer()\n",
    "def stem_words(text):\n",
    "    stemmed_words= [ps.stem(word) for word in text]\n",
    "    return stemmed_words"
   ]
  },
  {
   "cell_type": "code",
   "execution_count": 21,
   "id": "4c3e821c",
   "metadata": {
    "execution": {
     "iopub.execute_input": "2024-07-23T10:34:43.256189Z",
     "iopub.status.busy": "2024-07-23T10:34:43.255746Z",
     "iopub.status.idle": "2024-07-23T10:34:43.263095Z",
     "shell.execute_reply": "2024-07-23T10:34:43.261945Z"
    },
    "papermill": {
     "duration": 0.021623,
     "end_time": "2024-07-23T10:34:43.265217",
     "exception": false,
     "start_time": "2024-07-23T10:34:43.243594",
     "status": "completed"
    },
    "tags": []
   },
   "outputs": [
    {
     "data": {
      "text/plain": [
       "['i', 'love', 'love']"
      ]
     },
     "execution_count": 21,
     "metadata": {},
     "output_type": "execute_result"
    }
   ],
   "source": [
    "txt=([\"i\", \"loved\",\"loving\"])\n",
    "stem_words(txt)"
   ]
  },
  {
   "cell_type": "code",
   "execution_count": 22,
   "id": "63cc8faf",
   "metadata": {
    "execution": {
     "iopub.execute_input": "2024-07-23T10:34:43.287485Z",
     "iopub.status.busy": "2024-07-23T10:34:43.287084Z",
     "iopub.status.idle": "2024-07-23T10:35:15.926357Z",
     "shell.execute_reply": "2024-07-23T10:35:15.925106Z"
    },
    "papermill": {
     "duration": 32.653938,
     "end_time": "2024-07-23T10:35:15.929276",
     "exception": false,
     "start_time": "2024-07-23T10:34:43.275338",
     "status": "completed"
    },
    "tags": []
   },
   "outputs": [],
   "source": [
    "df1[\"review\"]=df1[\"review\"].apply(stem_words)\n"
   ]
  },
  {
   "cell_type": "code",
   "execution_count": 23,
   "id": "11d58cea",
   "metadata": {
    "execution": {
     "iopub.execute_input": "2024-07-23T10:35:15.951886Z",
     "iopub.status.busy": "2024-07-23T10:35:15.951518Z",
     "iopub.status.idle": "2024-07-23T10:35:15.963395Z",
     "shell.execute_reply": "2024-07-23T10:35:15.962342Z"
    },
    "papermill": {
     "duration": 0.025686,
     "end_time": "2024-07-23T10:35:15.965622",
     "exception": false,
     "start_time": "2024-07-23T10:35:15.939936",
     "status": "completed"
    },
    "tags": []
   },
   "outputs": [
    {
     "data": {
      "text/plain": [
       "9576     [come, imdb, boardsi, alway, fed, see, worst, ...\n",
       "20035    [best, club, scene, seen, long, time, atmosphe...\n",
       "34652    [love, give, kolchak, higher, rate, show, quic...\n",
       "27199    [three, director, good, begin, three, stori, r...\n",
       "19649    [happen, catch, last, 45, minut, moviel, night...\n",
       "                               ...                        \n",
       "5371     [first, saw, show, around, easter, time, 1993,...\n",
       "22329    [time, kill, watch, footbal, saw, movi, offer,...\n",
       "9164     [realli, like, movi, much, realli, funni, case...\n",
       "11717    [movi, made, asian, chines, market, target, pa...\n",
       "7900     [great, movi, pull, along, honest, laugh, care...\n",
       "Name: review, Length: 10000, dtype: object"
      ]
     },
     "execution_count": 23,
     "metadata": {},
     "output_type": "execute_result"
    }
   ],
   "source": [
    "df1['review']"
   ]
  },
  {
   "cell_type": "code",
   "execution_count": 24,
   "id": "a59d81dc",
   "metadata": {
    "execution": {
     "iopub.execute_input": "2024-07-23T10:35:15.987966Z",
     "iopub.status.busy": "2024-07-23T10:35:15.987571Z",
     "iopub.status.idle": "2024-07-23T10:35:15.992582Z",
     "shell.execute_reply": "2024-07-23T10:35:15.991347Z"
    },
    "papermill": {
     "duration": 0.018887,
     "end_time": "2024-07-23T10:35:15.994992",
     "exception": false,
     "start_time": "2024-07-23T10:35:15.976105",
     "status": "completed"
    },
    "tags": []
   },
   "outputs": [],
   "source": [
    "#join\n",
    "def join_back(text):\n",
    "    return \" \".join(text)"
   ]
  },
  {
   "cell_type": "code",
   "execution_count": 25,
   "id": "ef6941d4",
   "metadata": {
    "execution": {
     "iopub.execute_input": "2024-07-23T10:35:16.019462Z",
     "iopub.status.busy": "2024-07-23T10:35:16.019053Z",
     "iopub.status.idle": "2024-07-23T10:35:16.064065Z",
     "shell.execute_reply": "2024-07-23T10:35:16.062969Z"
    },
    "papermill": {
     "duration": 0.06092,
     "end_time": "2024-07-23T10:35:16.066684",
     "exception": false,
     "start_time": "2024-07-23T10:35:16.005764",
     "status": "completed"
    },
    "tags": []
   },
   "outputs": [],
   "source": [
    "df1[\"review\"]= df1[\"review\"].apply(join_back)"
   ]
  },
  {
   "cell_type": "code",
   "execution_count": 26,
   "id": "aa6dbb78",
   "metadata": {
    "execution": {
     "iopub.execute_input": "2024-07-23T10:35:16.088753Z",
     "iopub.status.busy": "2024-07-23T10:35:16.088370Z",
     "iopub.status.idle": "2024-07-23T10:35:16.098902Z",
     "shell.execute_reply": "2024-07-23T10:35:16.097796Z"
    },
    "papermill": {
     "duration": 0.024329,
     "end_time": "2024-07-23T10:35:16.101239",
     "exception": false,
     "start_time": "2024-07-23T10:35:16.076910",
     "status": "completed"
    },
    "tags": []
   },
   "outputs": [
    {
     "data": {
      "text/html": [
       "<div>\n",
       "<style scoped>\n",
       "    .dataframe tbody tr th:only-of-type {\n",
       "        vertical-align: middle;\n",
       "    }\n",
       "\n",
       "    .dataframe tbody tr th {\n",
       "        vertical-align: top;\n",
       "    }\n",
       "\n",
       "    .dataframe thead th {\n",
       "        text-align: right;\n",
       "    }\n",
       "</style>\n",
       "<table border=\"1\" class=\"dataframe\">\n",
       "  <thead>\n",
       "    <tr style=\"text-align: right;\">\n",
       "      <th></th>\n",
       "      <th>review</th>\n",
       "      <th>sentiment</th>\n",
       "    </tr>\n",
       "  </thead>\n",
       "  <tbody>\n",
       "    <tr>\n",
       "      <th>9576</th>\n",
       "      <td>come imdb boardsi alway fed see worst movi eve...</td>\n",
       "      <td>0</td>\n",
       "    </tr>\n",
       "    <tr>\n",
       "      <th>20035</th>\n",
       "      <td>best club scene seen long time atmospher mesme...</td>\n",
       "      <td>1</td>\n",
       "    </tr>\n",
       "    <tr>\n",
       "      <th>34652</th>\n",
       "      <td>love give kolchak higher rate show quickli wen...</td>\n",
       "      <td>1</td>\n",
       "    </tr>\n",
       "    <tr>\n",
       "      <th>27199</th>\n",
       "      <td>three director good begin three stori remark w...</td>\n",
       "      <td>1</td>\n",
       "    </tr>\n",
       "    <tr>\n",
       "      <th>19649</th>\n",
       "      <td>happen catch last 45 minut moviel night 8 year...</td>\n",
       "      <td>1</td>\n",
       "    </tr>\n",
       "  </tbody>\n",
       "</table>\n",
       "</div>"
      ],
      "text/plain": [
       "                                                  review  sentiment\n",
       "9576   come imdb boardsi alway fed see worst movi eve...          0\n",
       "20035  best club scene seen long time atmospher mesme...          1\n",
       "34652  love give kolchak higher rate show quickli wen...          1\n",
       "27199  three director good begin three stori remark w...          1\n",
       "19649  happen catch last 45 minut moviel night 8 year...          1"
      ]
     },
     "execution_count": 26,
     "metadata": {},
     "output_type": "execute_result"
    }
   ],
   "source": [
    "df1.head()"
   ]
  },
  {
   "cell_type": "code",
   "execution_count": 27,
   "id": "64670a31",
   "metadata": {
    "execution": {
     "iopub.execute_input": "2024-07-23T10:35:16.123958Z",
     "iopub.status.busy": "2024-07-23T10:35:16.123583Z",
     "iopub.status.idle": "2024-07-23T10:35:16.128414Z",
     "shell.execute_reply": "2024-07-23T10:35:16.127375Z"
    },
    "papermill": {
     "duration": 0.018764,
     "end_time": "2024-07-23T10:35:16.130739",
     "exception": false,
     "start_time": "2024-07-23T10:35:16.111975",
     "status": "completed"
    },
    "tags": []
   },
   "outputs": [],
   "source": [
    "from sklearn.feature_extraction.text import CountVectorizer\n",
    "cv=CountVectorizer(max_features= 1000) #mostused1000words"
   ]
  },
  {
   "cell_type": "code",
   "execution_count": 28,
   "id": "360693ed",
   "metadata": {
    "execution": {
     "iopub.execute_input": "2024-07-23T10:35:16.153189Z",
     "iopub.status.busy": "2024-07-23T10:35:16.152812Z",
     "iopub.status.idle": "2024-07-23T10:35:17.419840Z",
     "shell.execute_reply": "2024-07-23T10:35:17.418619Z"
    },
    "papermill": {
     "duration": 1.281327,
     "end_time": "2024-07-23T10:35:17.422509",
     "exception": false,
     "start_time": "2024-07-23T10:35:16.141182",
     "status": "completed"
    },
    "tags": []
   },
   "outputs": [],
   "source": [
    "x= cv.fit_transform(df1[\"review\"]).toarray()"
   ]
  },
  {
   "cell_type": "code",
   "execution_count": 29,
   "id": "6be977bc",
   "metadata": {
    "execution": {
     "iopub.execute_input": "2024-07-23T10:35:17.445686Z",
     "iopub.status.busy": "2024-07-23T10:35:17.445270Z",
     "iopub.status.idle": "2024-07-23T10:35:17.452595Z",
     "shell.execute_reply": "2024-07-23T10:35:17.451455Z"
    },
    "papermill": {
     "duration": 0.021284,
     "end_time": "2024-07-23T10:35:17.454815",
     "exception": false,
     "start_time": "2024-07-23T10:35:17.433531",
     "status": "completed"
    },
    "tags": []
   },
   "outputs": [
    {
     "data": {
      "text/plain": [
       "array([[0, 0, 0, ..., 0, 0, 0],\n",
       "       [0, 0, 0, ..., 0, 0, 0],\n",
       "       [0, 0, 0, ..., 0, 0, 0],\n",
       "       ...,\n",
       "       [0, 0, 0, ..., 0, 0, 0],\n",
       "       [1, 0, 0, ..., 0, 0, 0],\n",
       "       [0, 0, 0, ..., 0, 0, 0]])"
      ]
     },
     "execution_count": 29,
     "metadata": {},
     "output_type": "execute_result"
    }
   ],
   "source": [
    "x"
   ]
  },
  {
   "cell_type": "code",
   "execution_count": 30,
   "id": "bf0bf9e4",
   "metadata": {
    "execution": {
     "iopub.execute_input": "2024-07-23T10:35:17.477949Z",
     "iopub.status.busy": "2024-07-23T10:35:17.477122Z",
     "iopub.status.idle": "2024-07-23T10:35:17.483519Z",
     "shell.execute_reply": "2024-07-23T10:35:17.482482Z"
    },
    "papermill": {
     "duration": 0.020422,
     "end_time": "2024-07-23T10:35:17.485852",
     "exception": false,
     "start_time": "2024-07-23T10:35:17.465430",
     "status": "completed"
    },
    "tags": []
   },
   "outputs": [
    {
     "data": {
      "text/plain": [
       "(10000, 1000)"
      ]
     },
     "execution_count": 30,
     "metadata": {},
     "output_type": "execute_result"
    }
   ],
   "source": [
    "x.shape"
   ]
  },
  {
   "cell_type": "code",
   "execution_count": 31,
   "id": "0a239112",
   "metadata": {
    "execution": {
     "iopub.execute_input": "2024-07-23T10:35:17.509025Z",
     "iopub.status.busy": "2024-07-23T10:35:17.508648Z",
     "iopub.status.idle": "2024-07-23T10:35:17.515882Z",
     "shell.execute_reply": "2024-07-23T10:35:17.514889Z"
    },
    "papermill": {
     "duration": 0.021646,
     "end_time": "2024-07-23T10:35:17.518107",
     "exception": false,
     "start_time": "2024-07-23T10:35:17.496461",
     "status": "completed"
    },
    "tags": []
   },
   "outputs": [
    {
     "data": {
      "text/plain": [
       "0.077"
      ]
     },
     "execution_count": 31,
     "metadata": {},
     "output_type": "execute_result"
    }
   ],
   "source": [
    "x[0].max()  #repetiton of word\n",
    "x[0].mean()"
   ]
  },
  {
   "cell_type": "code",
   "execution_count": 32,
   "id": "b88c2243",
   "metadata": {
    "execution": {
     "iopub.execute_input": "2024-07-23T10:35:17.541663Z",
     "iopub.status.busy": "2024-07-23T10:35:17.541276Z",
     "iopub.status.idle": "2024-07-23T10:35:17.548686Z",
     "shell.execute_reply": "2024-07-23T10:35:17.547549Z"
    },
    "papermill": {
     "duration": 0.021901,
     "end_time": "2024-07-23T10:35:17.550854",
     "exception": false,
     "start_time": "2024-07-23T10:35:17.528953",
     "status": "completed"
    },
    "tags": []
   },
   "outputs": [
    {
     "data": {
      "text/plain": [
       "(10000,)"
      ]
     },
     "execution_count": 32,
     "metadata": {},
     "output_type": "execute_result"
    }
   ],
   "source": [
    "y= df1.iloc[:, -1].values\n",
    "y.shape"
   ]
  },
  {
   "cell_type": "code",
   "execution_count": 33,
   "id": "43212465",
   "metadata": {
    "execution": {
     "iopub.execute_input": "2024-07-23T10:35:17.575415Z",
     "iopub.status.busy": "2024-07-23T10:35:17.574970Z",
     "iopub.status.idle": "2024-07-23T10:35:17.612383Z",
     "shell.execute_reply": "2024-07-23T10:35:17.611194Z"
    },
    "papermill": {
     "duration": 0.05259,
     "end_time": "2024-07-23T10:35:17.615063",
     "exception": false,
     "start_time": "2024-07-23T10:35:17.562473",
     "status": "completed"
    },
    "tags": []
   },
   "outputs": [],
   "source": [
    "from sklearn.model_selection import train_test_split\n",
    "x_train,x_test,y_train,y_test= train_test_split(x,y,\n",
    "                                                test_size=0.2,\n",
    "                                               random_state=42)"
   ]
  },
  {
   "cell_type": "code",
   "execution_count": 34,
   "id": "dffedd26",
   "metadata": {
    "execution": {
     "iopub.execute_input": "2024-07-23T10:35:17.639029Z",
     "iopub.status.busy": "2024-07-23T10:35:17.638327Z",
     "iopub.status.idle": "2024-07-23T10:35:17.644908Z",
     "shell.execute_reply": "2024-07-23T10:35:17.643771Z"
    },
    "papermill": {
     "duration": 0.020844,
     "end_time": "2024-07-23T10:35:17.646968",
     "exception": false,
     "start_time": "2024-07-23T10:35:17.626124",
     "status": "completed"
    },
    "tags": []
   },
   "outputs": [
    {
     "data": {
      "text/plain": [
       "(8000, 1000)"
      ]
     },
     "execution_count": 34,
     "metadata": {},
     "output_type": "execute_result"
    }
   ],
   "source": [
    "x_train.shape"
   ]
  },
  {
   "cell_type": "code",
   "execution_count": 35,
   "id": "e315db56",
   "metadata": {
    "execution": {
     "iopub.execute_input": "2024-07-23T10:35:17.735565Z",
     "iopub.status.busy": "2024-07-23T10:35:17.734598Z",
     "iopub.status.idle": "2024-07-23T10:35:17.742186Z",
     "shell.execute_reply": "2024-07-23T10:35:17.741133Z"
    },
    "papermill": {
     "duration": 0.022706,
     "end_time": "2024-07-23T10:35:17.744912",
     "exception": false,
     "start_time": "2024-07-23T10:35:17.722206",
     "status": "completed"
    },
    "tags": []
   },
   "outputs": [],
   "source": [
    "from sklearn.naive_bayes import GaussianNB,MultinomialNB,BernoulliNB"
   ]
  },
  {
   "cell_type": "code",
   "execution_count": 36,
   "id": "40964f1b",
   "metadata": {
    "execution": {
     "iopub.execute_input": "2024-07-23T10:35:17.769765Z",
     "iopub.status.busy": "2024-07-23T10:35:17.768868Z",
     "iopub.status.idle": "2024-07-23T10:35:18.110576Z",
     "shell.execute_reply": "2024-07-23T10:35:18.109353Z"
    },
    "papermill": {
     "duration": 0.356334,
     "end_time": "2024-07-23T10:35:18.112769",
     "exception": false,
     "start_time": "2024-07-23T10:35:17.756435",
     "status": "completed"
    },
    "tags": []
   },
   "outputs": [
    {
     "data": {
      "text/html": [
       "<style>#sk-container-id-1 {color: black;background-color: white;}#sk-container-id-1 pre{padding: 0;}#sk-container-id-1 div.sk-toggleable {background-color: white;}#sk-container-id-1 label.sk-toggleable__label {cursor: pointer;display: block;width: 100%;margin-bottom: 0;padding: 0.3em;box-sizing: border-box;text-align: center;}#sk-container-id-1 label.sk-toggleable__label-arrow:before {content: \"▸\";float: left;margin-right: 0.25em;color: #696969;}#sk-container-id-1 label.sk-toggleable__label-arrow:hover:before {color: black;}#sk-container-id-1 div.sk-estimator:hover label.sk-toggleable__label-arrow:before {color: black;}#sk-container-id-1 div.sk-toggleable__content {max-height: 0;max-width: 0;overflow: hidden;text-align: left;background-color: #f0f8ff;}#sk-container-id-1 div.sk-toggleable__content pre {margin: 0.2em;color: black;border-radius: 0.25em;background-color: #f0f8ff;}#sk-container-id-1 input.sk-toggleable__control:checked~div.sk-toggleable__content {max-height: 200px;max-width: 100%;overflow: auto;}#sk-container-id-1 input.sk-toggleable__control:checked~label.sk-toggleable__label-arrow:before {content: \"▾\";}#sk-container-id-1 div.sk-estimator input.sk-toggleable__control:checked~label.sk-toggleable__label {background-color: #d4ebff;}#sk-container-id-1 div.sk-label input.sk-toggleable__control:checked~label.sk-toggleable__label {background-color: #d4ebff;}#sk-container-id-1 input.sk-hidden--visually {border: 0;clip: rect(1px 1px 1px 1px);clip: rect(1px, 1px, 1px, 1px);height: 1px;margin: -1px;overflow: hidden;padding: 0;position: absolute;width: 1px;}#sk-container-id-1 div.sk-estimator {font-family: monospace;background-color: #f0f8ff;border: 1px dotted black;border-radius: 0.25em;box-sizing: border-box;margin-bottom: 0.5em;}#sk-container-id-1 div.sk-estimator:hover {background-color: #d4ebff;}#sk-container-id-1 div.sk-parallel-item::after {content: \"\";width: 100%;border-bottom: 1px solid gray;flex-grow: 1;}#sk-container-id-1 div.sk-label:hover label.sk-toggleable__label {background-color: #d4ebff;}#sk-container-id-1 div.sk-serial::before {content: \"\";position: absolute;border-left: 1px solid gray;box-sizing: border-box;top: 0;bottom: 0;left: 50%;z-index: 0;}#sk-container-id-1 div.sk-serial {display: flex;flex-direction: column;align-items: center;background-color: white;padding-right: 0.2em;padding-left: 0.2em;position: relative;}#sk-container-id-1 div.sk-item {position: relative;z-index: 1;}#sk-container-id-1 div.sk-parallel {display: flex;align-items: stretch;justify-content: center;background-color: white;position: relative;}#sk-container-id-1 div.sk-item::before, #sk-container-id-1 div.sk-parallel-item::before {content: \"\";position: absolute;border-left: 1px solid gray;box-sizing: border-box;top: 0;bottom: 0;left: 50%;z-index: -1;}#sk-container-id-1 div.sk-parallel-item {display: flex;flex-direction: column;z-index: 1;position: relative;background-color: white;}#sk-container-id-1 div.sk-parallel-item:first-child::after {align-self: flex-end;width: 50%;}#sk-container-id-1 div.sk-parallel-item:last-child::after {align-self: flex-start;width: 50%;}#sk-container-id-1 div.sk-parallel-item:only-child::after {width: 0;}#sk-container-id-1 div.sk-dashed-wrapped {border: 1px dashed gray;margin: 0 0.4em 0.5em 0.4em;box-sizing: border-box;padding-bottom: 0.4em;background-color: white;}#sk-container-id-1 div.sk-label label {font-family: monospace;font-weight: bold;display: inline-block;line-height: 1.2em;}#sk-container-id-1 div.sk-label-container {text-align: center;}#sk-container-id-1 div.sk-container {/* jupyter's `normalize.less` sets `[hidden] { display: none; }` but bootstrap.min.css set `[hidden] { display: none !important; }` so we also need the `!important` here to be able to override the default hidden behavior on the sphinx rendered scikit-learn.org. See: https://github.com/scikit-learn/scikit-learn/issues/21755 */display: inline-block !important;position: relative;}#sk-container-id-1 div.sk-text-repr-fallback {display: none;}</style><div id=\"sk-container-id-1\" class=\"sk-top-container\"><div class=\"sk-text-repr-fallback\"><pre>BernoulliNB()</pre><b>In a Jupyter environment, please rerun this cell to show the HTML representation or trust the notebook. <br />On GitHub, the HTML representation is unable to render, please try loading this page with nbviewer.org.</b></div><div class=\"sk-container\" hidden><div class=\"sk-item\"><div class=\"sk-estimator sk-toggleable\"><input class=\"sk-toggleable__control sk-hidden--visually\" id=\"sk-estimator-id-1\" type=\"checkbox\" checked><label for=\"sk-estimator-id-1\" class=\"sk-toggleable__label sk-toggleable__label-arrow\">BernoulliNB</label><div class=\"sk-toggleable__content\"><pre>BernoulliNB()</pre></div></div></div></div></div>"
      ],
      "text/plain": [
       "BernoulliNB()"
      ]
     },
     "execution_count": 36,
     "metadata": {},
     "output_type": "execute_result"
    }
   ],
   "source": [
    "gnb= GaussianNB()\n",
    "mnb= MultinomialNB()\n",
    "bnb= BernoulliNB()\n",
    "gnb.fit(x_train,y_train)\n",
    "mnb.fit(x_train,y_train)\n",
    "bnb.fit(x_train,y_train)"
   ]
  },
  {
   "cell_type": "code",
   "execution_count": 37,
   "id": "e7681f67",
   "metadata": {
    "execution": {
     "iopub.execute_input": "2024-07-23T10:35:18.137732Z",
     "iopub.status.busy": "2024-07-23T10:35:18.137313Z",
     "iopub.status.idle": "2024-07-23T10:35:18.206488Z",
     "shell.execute_reply": "2024-07-23T10:35:18.205188Z"
    },
    "papermill": {
     "duration": 0.085519,
     "end_time": "2024-07-23T10:35:18.210188",
     "exception": false,
     "start_time": "2024-07-23T10:35:18.124669",
     "status": "completed"
    },
    "tags": []
   },
   "outputs": [],
   "source": [
    "y_pred_bnb= bnb.predict(x_test)\n",
    "y_pred_gnb= gnb.predict(x_test)\n",
    "y_pred_mnb= mnb.predict(x_test)"
   ]
  },
  {
   "cell_type": "code",
   "execution_count": 38,
   "id": "c4ad493c",
   "metadata": {
    "execution": {
     "iopub.execute_input": "2024-07-23T10:35:18.250912Z",
     "iopub.status.busy": "2024-07-23T10:35:18.250333Z",
     "iopub.status.idle": "2024-07-23T10:35:18.255986Z",
     "shell.execute_reply": "2024-07-23T10:35:18.254811Z"
    },
    "papermill": {
     "duration": 0.02974,
     "end_time": "2024-07-23T10:35:18.258869",
     "exception": false,
     "start_time": "2024-07-23T10:35:18.229129",
     "status": "completed"
    },
    "tags": []
   },
   "outputs": [],
   "source": [
    "from sklearn.metrics import accuracy_score"
   ]
  },
  {
   "cell_type": "code",
   "execution_count": 39,
   "id": "59fbbdf2",
   "metadata": {
    "execution": {
     "iopub.execute_input": "2024-07-23T10:35:18.299218Z",
     "iopub.status.busy": "2024-07-23T10:35:18.298668Z",
     "iopub.status.idle": "2024-07-23T10:35:18.311890Z",
     "shell.execute_reply": "2024-07-23T10:35:18.310776Z"
    },
    "papermill": {
     "duration": 0.037222,
     "end_time": "2024-07-23T10:35:18.315380",
     "exception": false,
     "start_time": "2024-07-23T10:35:18.278158",
     "status": "completed"
    },
    "tags": []
   },
   "outputs": [
    {
     "name": "stdout",
     "output_type": "stream",
     "text": [
      "accuracy of bnb is 0.8245, of gnb is 0.77, of mnb is 0.8235\n"
     ]
    }
   ],
   "source": [
    "print(f\"accuracy of bnb is {accuracy_score(y_test, y_pred_bnb)}, of gnb is {accuracy_score(y_test, y_pred_gnb)}, of mnb is {accuracy_score(y_test, y_pred_mnb)}\")\n"
   ]
  },
  {
   "cell_type": "code",
   "execution_count": null,
   "id": "2213678c",
   "metadata": {
    "papermill": {
     "duration": 0.011197,
     "end_time": "2024-07-23T10:35:18.342750",
     "exception": false,
     "start_time": "2024-07-23T10:35:18.331553",
     "status": "completed"
    },
    "tags": []
   },
   "outputs": [],
   "source": []
  }
 ],
 "metadata": {
  "kaggle": {
   "accelerator": "none",
   "dataSources": [
    {
     "datasetId": 134715,
     "sourceId": 320111,
     "sourceType": "datasetVersion"
    }
   ],
   "dockerImageVersionId": 30746,
   "isGpuEnabled": false,
   "isInternetEnabled": true,
   "language": "python",
   "sourceType": "notebook"
  },
  "kernelspec": {
   "display_name": "Python 3",
   "language": "python",
   "name": "python3"
  },
  "language_info": {
   "codemirror_mode": {
    "name": "ipython",
    "version": 3
   },
   "file_extension": ".py",
   "mimetype": "text/x-python",
   "name": "python",
   "nbconvert_exporter": "python",
   "pygments_lexer": "ipython3",
   "version": "3.10.13"
  },
  "papermill": {
   "default_parameters": {},
   "duration": 48.667408,
   "end_time": "2024-07-23T10:35:19.177464",
   "environment_variables": {},
   "exception": null,
   "input_path": "__notebook__.ipynb",
   "output_path": "__notebook__.ipynb",
   "parameters": {},
   "start_time": "2024-07-23T10:34:30.510056",
   "version": "2.5.0"
  }
 },
 "nbformat": 4,
 "nbformat_minor": 5
}
