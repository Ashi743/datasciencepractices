for i in range(5):
<<<<<<< HEAD
	for j in range(i):
		print("l", end=" ")
	print()

>>>>>>> slave
